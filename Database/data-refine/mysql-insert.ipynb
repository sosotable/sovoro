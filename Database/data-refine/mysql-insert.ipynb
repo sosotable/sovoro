{
 "cells": [
  {
   "cell_type": "code",
   "execution_count": 18,
   "id": "7c6db579",
   "metadata": {
    "pycharm": {
     "name": "#%%\n"
    }
   },
   "outputs": [],
   "source": [
    "import pymysql\n",
    "import pandas as pd\n",
    "import numpy as np"
   ]
  },
  {
   "cell_type": "code",
   "execution_count": null,
   "metadata": {
    "collapsed": false,
    "pycharm": {
     "name": "#%%\n"
    }
   },
   "outputs": [],
   "source": [
    "dataFrame = pd.read_csv('dic-refine.csv')\n",
    "dataFrame.drop(['Unnamed: 0'], axis = 1, inplace = True)"
   ]
  },
  {
   "cell_type": "code",
   "execution_count": null,
   "metadata": {
    "collapsed": false,
    "pycharm": {
     "name": "#%%\n"
    }
   },
   "outputs": [],
   "source": [
    "dataList=dataFrame.values.tolist()"
   ]
  },
  {
   "cell_type": "code",
   "execution_count": null,
   "metadata": {
    "collapsed": false,
    "pycharm": {
     "name": "#%%\n"
    }
   },
   "outputs": [],
   "source": [
    "print(dataList[0][1],dataList[0][2],dataList[0][3])"
   ]
  },
  {
   "cell_type": "code",
   "execution_count": null,
   "metadata": {
    "collapsed": false,
    "pycharm": {
     "name": "#%%\n"
    }
   },
   "outputs": [],
   "source": [
    "def query_select(cursor):\n",
    "    sql = \"select word, description from engkor;\"\n",
    "    cursor.execute(sql)\n",
    "\n",
    "\n",
    "def query_insert(cursor, engword, korword):\n",
    "    sql = \"insert into wordinfo(engword,korword) values(%s,%s)\"\n",
    "    data = [ engword, korword ]\n",
    "    try:\n",
    "        cursor.execute(sql, data)\n",
    "    except pymysql.err.IntegrityError:\n",
    "        pass"
   ]
  },
  {
   "cell_type": "code",
   "execution_count": null,
   "metadata": {
    "collapsed": false,
    "pycharm": {
     "name": "#%%\n"
    }
   },
   "outputs": [],
   "source": [
    "connection = pymysql.connect(\n",
    "    host='*', \n",
    "    user='*', \n",
    "    password='*',                   \n",
    "    db='*', \n",
    "    charset='*'\n",
    ")"
   ]
  },
  {
   "cell_type": "code",
   "execution_count": null,
   "metadata": {
    "collapsed": false,
    "pycharm": {
     "name": "#%%\n"
    }
   },
   "outputs": [],
   "source": [
    "if connection is not None:\n",
    "    cursor = connection.cursor()\n",
    "    t=0\n",
    "    for row in dataList:\n",
    "        engword=row[2]\n",
    "        korword=row[3]\n",
    "        t += 1\n",
    "        print(t)\n",
    "        query_insert(cursor, engword, korword)\n",
    "    connection.commit()"
   ]
  },
  {
   "cell_type": "markdown",
   "metadata": {
    "collapsed": false,
    "pycharm": {
     "name": "#%% md\n"
    }
   },
   "source": [
    "create table wordinfo\n",
    "(\n",
    "    wordid  int auto_increment primary key ,\n",
    "    engword varchar(250) not null unique,\n",
    "    korword varchar(250) not null\n",
    ");\n",
    "\n",
    "create table userinfo\n",
    "(\n",
    "    userid    varchar(250) not null primary key ,\n",
    "    password  varchar(250) not null ,\n",
    "    nickname  varchar(250) not null unique ,\n",
    "    userimage varchar(250) null\n",
    ");\n"
   ]
  }
 ],
 "metadata": {
  "kernelspec": {
   "display_name": "Python 3.9.1 64-bit",
   "language": "python",
   "name": "python3"
  },
  "language_info": {
   "codemirror_mode": {
    "name": "ipython",
    "version": 3
   },
   "file_extension": ".py",
   "mimetype": "text/x-python",
   "name": "python",
   "nbconvert_exporter": "python",
   "pygments_lexer": "ipython3",
   "version": "3.9.1"
  },
  "vscode": {
   "interpreter": {
    "hash": "81794d4967e6c3204c66dcd87b604927b115b27c00565d3d43f05ba2f3a2cb0d"
   }
  }
 },
 "nbformat": 4,
 "nbformat_minor": 5
}
