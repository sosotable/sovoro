{
 "cells": [
  {
   "cell_type": "code",
   "execution_count": 3,
   "id": "afe62531",
   "metadata": {},
   "outputs": [],
   "source": [
    "fRead=open('./dictionary_raw.sql','rt',encoding='utf-8-sig')"
   ]
  },
  {
   "cell_type": "code",
   "execution_count": 5,
   "id": "2716ef6d",
   "metadata": {},
   "outputs": [],
   "source": [
    "fWrite=open('./dictionary_refine.csv','wt',encoding='utf-8-sig')"
   ]
  },
  {
   "cell_type": "code",
   "execution_count": 6,
   "id": "b561081f",
   "metadata": {},
   "outputs": [],
   "source": [
    "import pprint\n",
    "import pandas as pd\n",
    "import numpy as np\n",
    "import csv"
   ]
  },
  {
   "cell_type": "code",
   "execution_count": 7,
   "id": "66fa8903",
   "metadata": {},
   "outputs": [],
   "source": [
    "wordId=[]\n",
    "englishWord=[]\n",
    "koreanWord=[]"
   ]
  },
  {
   "cell_type": "code",
   "execution_count": 8,
   "id": "ef5146ab",
   "metadata": {},
   "outputs": [],
   "source": [
    "lines=fRead.readlines()"
   ]
  },
  {
   "cell_type": "code",
   "execution_count": 9,
   "id": "05fbb7ca",
   "metadata": {
    "scrolled": true
   },
   "outputs": [],
   "source": [
    "loopCnt=0\n",
    "wordCnt=1;\n",
    "for line in lines:\n",
    "    startIdx=line.find('(')\n",
    "    line=line[startIdx+1:len(line)-3]\n",
    "    idIdx=0\n",
    "    engIdx=0\n",
    "    cnt=0\n",
    "    for idx in range(len(line)):\n",
    "        if line[idx]==',':\n",
    "            if(cnt==0):\n",
    "                idIdx=idx\n",
    "                cnt+=1\n",
    "            elif(cnt==1):\n",
    "                engIdx=idx\n",
    "                cnt+=1\n",
    "            else:\n",
    "                break;\n",
    "    wId=line[:idIdx].strip('\"')\n",
    "    wEng=line[idIdx+2:engIdx].strip('\"').strip()\n",
    "    wKor=line[engIdx+2:].strip('\"').replace('\\\\','').replace('rn','')\n",
    "    wKor=wKor.replace(',','-')\n",
    "    #result=f'{wId},{wEng},{wKor}'\n",
    "    #fWrite.write(f'{wId},{wEng},{wKor}\\n')\n",
    "    loopCnt+=1;\n",
    "    if(loopCnt<=12):\n",
    "        continue\n",
    "    elif(loopCnt==2062):\n",
    "        break;\n",
    "    else:\n",
    "        wordId.append(wordCnt)\n",
    "        wordCnt+=1;\n",
    "        englishWord.append(wEng)\n",
    "        koreanWord.append(wKor)\n",
    "    #print(loopCnt)"
   ]
  },
  {
   "cell_type": "code",
   "execution_count": 10,
   "id": "1a9c1ab8",
   "metadata": {},
   "outputs": [],
   "source": [
    "wordDataFrame={\n",
    "    'WordId':wordId,\n",
    "    'EnglishWord':englishWord,\n",
    "    'KoreanWord':koreanWord\n",
    "}"
   ]
  },
  {
   "cell_type": "code",
   "execution_count": 11,
   "id": "fd82d415",
   "metadata": {},
   "outputs": [],
   "source": [
    "dataFrame=pd.DataFrame(wordDataFrame)"
   ]
  },
  {
   "cell_type": "code",
   "execution_count": 12,
   "id": "bcb8ffcc",
   "metadata": {},
   "outputs": [
    {
     "name": "stdout",
     "output_type": "stream",
     "text": [
      "      WordId EnglishWord                                         KoreanWord\n",
      "0          1           a  ) <FONT COLOR=#FF0000><BR>1</FONT> 에이 (영어 자모의 ...\n",
      "1          2        able  :blest</FONT>)<FONT COLOR=#FF0000><BR>1 </FONT...\n",
      "2          3       about  : <I>prep.- ad.- a.- vt</I>.<BR>기본적으로는 위치- 즉 「...\n",
      "3          4       above  : <I>prep.-</I> <I>ad.- a.- n</I>.<BR>「위쪽에[으로]...\n",
      "4          5      absent  : [L 「어떤 일에서 떨어져 서」의 뜻에서] <I>a.</I><FONT COLOR...\n",
      "...      ...         ...                                                ...\n",
      "2044    2045        your  : <I>pron.</I> <FONT COLOR=#FF0000><BR>1 </FON...\n",
      "2045    2046       yours  : <I>pron.</I><FONT COLOR=#FF0000><BR>1 </FONT...\n",
      "2046    2047    yourself  :)<FONT COLOR=#FF0000><BR>1 </FONT>[강조 용법] <FO...\n",
      "2047    2048  yourselves                        : <I>pron.</I> YOURSELF의 복수\n",
      "2048    2049       youth  :) [U] <FONT COLOR=#FF0000><BR>1  a</FONT> <FO...\n",
      "\n",
      "[2049 rows x 3 columns]\n"
     ]
    }
   ],
   "source": [
    "print(dataFrame)"
   ]
  },
  {
   "cell_type": "code",
   "execution_count": 16,
   "id": "af17b3e3",
   "metadata": {},
   "outputs": [],
   "source": [
    "dataFrame.to_csv('dic-refine.csv',encoding='utf-8-sig')"
   ]
  },
  {
   "cell_type": "code",
   "execution_count": 8,
   "id": "d7449171",
   "metadata": {},
   "outputs": [],
   "source": [
    "fWrite.flush()\n",
    "fWrite.close()"
   ]
  }
 ],
 "metadata": {
  "kernelspec": {
   "display_name": "Python 3.9.1 64-bit",
   "language": "python",
   "name": "python3"
  },
  "language_info": {
   "codemirror_mode": {
    "name": "ipython",
    "version": 3
   },
   "file_extension": ".py",
   "mimetype": "text/x-python",
   "name": "python",
   "nbconvert_exporter": "python",
   "pygments_lexer": "ipython3",
   "version": "3.9.1"
  },
  "vscode": {
   "interpreter": {
    "hash": "81794d4967e6c3204c66dcd87b604927b115b27c00565d3d43f05ba2f3a2cb0d"
   }
  }
 },
 "nbformat": 4,
 "nbformat_minor": 5
}
